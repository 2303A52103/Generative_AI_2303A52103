{
  "nbformat": 4,
  "nbformat_minor": 0,
  "metadata": {
    "colab": {
      "provenance": [],
      "authorship_tag": "ABX9TyNmsRzpyzjlDW56+QOAlHfh",
      "include_colab_link": true
    },
    "kernelspec": {
      "name": "python3",
      "display_name": "Python 3"
    },
    "language_info": {
      "name": "python"
    }
  },
  "cells": [
    {
      "cell_type": "markdown",
      "metadata": {
        "id": "view-in-github",
        "colab_type": "text"
      },
      "source": [
        "<a href=\"https://colab.research.google.com/github/2303A52103/Generative_AI_2303A52103/blob/main/G%20AI_ASS3.ipynb\" target=\"_parent\"><img src=\"https://colab.research.google.com/assets/colab-badge.svg\" alt=\"Open In Colab\"/></a>"
      ]
    },
    {
      "cell_type": "markdown",
      "source": [
        " 1. Write Python code without using any libraries to find the value of x at which the function f(x) shown in equation (1) has minimum value. Consider Gradient Descent Algorithm.\n",
        " f(x) = 5x4 +3x2 +10"
      ],
      "metadata": {
        "id": "CThKjfe2jg03"
      }
    },
    {
      "cell_type": "code",
      "source": [
        "def f(x):\n",
        "  return 5 * x**4 + 3 * x**2 + 10"
      ],
      "metadata": {
        "id": "b9kQMEzOjf_n"
      },
      "execution_count": 2,
      "outputs": []
    },
    {
      "cell_type": "code",
      "source": [
        "def df(x):\n",
        "  return 20 * x**3 + 6 * x"
      ],
      "metadata": {
        "id": "j0hsgRZtoRZ_"
      },
      "execution_count": 3,
      "outputs": []
    },
    {
      "cell_type": "code",
      "source": [
        "def gradient_descent(learning_rate=0.01, iterations=1000, initial_x=1):\n",
        "  x = initial_x\n",
        "  for _ in range(iterations):\n",
        "    gradient = df(x)\n",
        "    x = x - learning_rate * gradient\n",
        "  return x\n"
      ],
      "metadata": {
        "id": "3954RzH0oTQv"
      },
      "execution_count": 4,
      "outputs": []
    },
    {
      "cell_type": "code",
      "source": [
        "learning_rate = 0.01\n",
        "iterations = 1000\n",
        "initial_x = 1"
      ],
      "metadata": {
        "id": "0SLXHmvOoVSO"
      },
      "execution_count": 5,
      "outputs": []
    },
    {
      "cell_type": "code",
      "source": [
        "x_min = gradient_descent(learning_rate, iterations, initial_x)"
      ],
      "metadata": {
        "id": "VHwE5rVooXUm"
      },
      "execution_count": 6,
      "outputs": []
    },
    {
      "cell_type": "code",
      "source": [
        "print(\"The value of x at which the function has a minimum is:\", x_min)"
      ],
      "metadata": {
        "colab": {
          "base_uri": "https://localhost:8080/"
        },
        "id": "9ugqrBaIoaSe",
        "outputId": "e77ce974-a5ac-4f4b-9b95-39cda9cb8aa3"
      },
      "execution_count": 7,
      "outputs": [
        {
          "output_type": "stream",
          "name": "stdout",
          "text": [
            "The value of x at which the function has a minimum is: 5.963540395046457e-28\n"
          ]
        }
      ]
    },
    {
      "cell_type": "markdown",
      "source": [
        "2. Write Python code without using any libraries to find the value of x and y at which the\n",
        "function g(x,y) shown in equation (2) has minimum value. Consider Gradient Descent Algorithm.\n",
        "f (x) = 3x2 + 5e−y + 10"
      ],
      "metadata": {
        "id": "lt5qFQlmofrG"
      }
    },
    {
      "cell_type": "code",
      "source": [
        "import math\n",
        "def g(x, y):\n",
        "  return 3 * x**2 + 5 * math.exp(-y) + 10\n"
      ],
      "metadata": {
        "id": "_RZBHXx_oct-"
      },
      "execution_count": 8,
      "outputs": []
    },
    {
      "cell_type": "code",
      "source": [
        "def dg_dx(x, y):\n",
        "  return 6 * x\n",
        "\n",
        "def dg_dy(x, y):\n",
        "  return -5 * math.exp(-y)"
      ],
      "metadata": {
        "id": "3DaZdTEbonEu"
      },
      "execution_count": 9,
      "outputs": []
    },
    {
      "cell_type": "code",
      "source": [
        "def gradient_descent(learning_rate=0.01, iterations=1000, initial_x=1, initial_y=1):\n",
        "  x = initial_x\n",
        "  y = initial_y\n",
        "  for _ in range(iterations):\n",
        "    gradient_x = dg_dx(x, y)\n",
        "    gradient_y = dg_dy(x, y)\n",
        "    x = x - learning_rate * gradient_x\n",
        "    y = y - learning_rate * gradient_y\n",
        "  return x, y"
      ],
      "metadata": {
        "id": "WYtzU_Fboo0O"
      },
      "execution_count": 10,
      "outputs": []
    },
    {
      "cell_type": "code",
      "source": [
        "learning_rate = 0.01\n",
        "iterations = 1000\n",
        "initial_x = 1\n",
        "initial_y = 1"
      ],
      "metadata": {
        "id": "2hvFXdeYorSP"
      },
      "execution_count": 11,
      "outputs": []
    },
    {
      "cell_type": "code",
      "source": [
        "x_min, y_min = gradient_descent(learning_rate, iterations, initial_x, initial_y)\n",
        "print(\"The value of x at which the function has a minimum is:\", x_min)\n",
        "print(\"The value of y at which the function has a minimum is:\", y_min)"
      ],
      "metadata": {
        "colab": {
          "base_uri": "https://localhost:8080/"
        },
        "id": "MY7lUhJcos9f",
        "outputId": "708607bd-d68f-4dfa-b40f-01648b3c6b49"
      },
      "execution_count": 12,
      "outputs": [
        {
          "output_type": "stream",
          "name": "stdout",
          "text": [
            "The value of x at which the function has a minimum is: 1.3423123924933694e-27\n",
            "The value of y at which the function has a minimum is: 3.9663707936306642\n"
          ]
        }
      ]
    },
    {
      "cell_type": "markdown",
      "source": [
        "3. Write Python code without using any libraries to find the value of x at which the\n",
        "sigmoid function z(x) shown in equation (3) has minimum value. Consider Gradient Descent\n",
        "Algorithm.\n",
        "\n",
        " z(x) = 1\n",
        "\n",
        " 1 + e−x"
      ],
      "metadata": {
        "id": "qRY2-vUPoxHu"
      }
    },
    {
      "cell_type": "code",
      "source": [
        "import math\n",
        "def sigmoid(x):\n",
        "  return 1 / (1 + math.exp(-x))"
      ],
      "metadata": {
        "id": "pDAH_xwIovD2"
      },
      "execution_count": 13,
      "outputs": []
    },
    {
      "cell_type": "code",
      "source": [
        "def sigmoid_derivative(x):\n",
        "  return sigmoid(x) * (1 - sigmoid(x))"
      ],
      "metadata": {
        "id": "LvBwGh9co9uW"
      },
      "execution_count": 14,
      "outputs": []
    },
    {
      "cell_type": "code",
      "source": [
        "def gradient_descent(learning_rate=0.01, iterations=1000, initial_x=0):\n",
        "  x = initial_x\n",
        "  for _ in range(iterations):\n",
        "    gradient = sigmoid_derivative(x)\n",
        "    x = x - learning_rate * gradient\n",
        "  return x"
      ],
      "metadata": {
        "id": "HtfpGeJRpIXP"
      },
      "execution_count": 15,
      "outputs": []
    },
    {
      "cell_type": "code",
      "source": [
        "learning_rate = 0.01\n",
        "iterations = 1000\n",
        "initial_x = 0\n"
      ],
      "metadata": {
        "id": "ZIGnp5BSpKHV"
      },
      "execution_count": 16,
      "outputs": []
    },
    {
      "cell_type": "code",
      "source": [
        "x_min = gradient_descent(learning_rate, iterations, initial_x)\n",
        "print(\"The value of x at which the sigmoid function has a minimum is:\", x_min)"
      ],
      "metadata": {
        "colab": {
          "base_uri": "https://localhost:8080/"
        },
        "id": "0pcXbHHepMBV",
        "outputId": "dac889e2-1f31-40f4-828f-c361ba052c93"
      },
      "execution_count": 17,
      "outputs": [
        {
          "output_type": "stream",
          "name": "stdout",
          "text": [
            "The value of x at which the sigmoid function has a minimum is: -1.8618354629020137\n"
          ]
        }
      ]
    },
    {
      "cell_type": "markdown",
      "source": [
        "4. Write Python code without using any libraries to find the value of optimal values of\n",
        "model parameters M and C such that the model’s Square Error Value shown in equation 4 will\n",
        "be minimum. It means model gives output close to expected output as shown in Figure"
      ],
      "metadata": {
        "id": "c42BJcPOpQSf"
      }
    },
    {
      "cell_type": "code",
      "source": [
        "def predict(x, m, c):\n",
        "    return m * x + c"
      ],
      "metadata": {
        "id": "dO98P_5YpOEg"
      },
      "execution_count": 18,
      "outputs": []
    },
    {
      "cell_type": "code",
      "source": [
        "def squared_error(x_values, y_values, m, c):\n",
        "    error = 0\n",
        "    for x, y in zip(x_values, y_values):\n",
        "        error += (y - predict(x, m, c)) ** 2\n",
        "    return error\n"
      ],
      "metadata": {
        "id": "JzSBRU1VpUUG"
      },
      "execution_count": 19,
      "outputs": []
    },
    {
      "cell_type": "code",
      "source": [
        "def gradient_descent(x_values, y_values, learning_rate=0.01, iterations=1000, initial_m=0, initial_c=0):\n",
        "    m = initial_m\n",
        "    c = initial_c\n",
        "    n = len(x_values)\n",
        "    for _ in range(iterations):\n",
        "        dm = 0\n",
        "        dc = 0\n",
        "        for x, y in zip(x_values, y_values):\n",
        "            dm += -2 * x * (y - predict(x, m, c))\n",
        "            dc += -2 * (y - predict(x, m, c))\n",
        "        m = m - learning_rate * (dm / n)\n",
        "        c = c - learning_rate * (dc / n)\n",
        "    return m, c"
      ],
      "metadata": {
        "id": "mh97NecxpWy-"
      },
      "execution_count": 20,
      "outputs": []
    },
    {
      "cell_type": "code",
      "source": [
        "x_values = [1, 2, 3, 4, 5]\n",
        "y_values = [2, 4, 5, 4, 5]"
      ],
      "metadata": {
        "id": "C6jBWZ_6paF_"
      },
      "execution_count": 21,
      "outputs": []
    },
    {
      "cell_type": "code",
      "source": [
        "optimal_m, optimal_c = gradient_descent(x_values, y_values)\n",
        "print(\"Optimal value of M:\", optimal_m)\n",
        "print(\"Optimal value of C:\", optimal_c)"
      ],
      "metadata": {
        "colab": {
          "base_uri": "https://localhost:8080/"
        },
        "id": "AnKkbtgupa9G",
        "outputId": "2ba0afde-4136-4785-ebac-450d73f082cd"
      },
      "execution_count": 22,
      "outputs": [
        {
          "output_type": "stream",
          "name": "stdout",
          "text": [
            "Optimal value of M: 0.6176946148762643\n",
            "Optimal value of C: 2.136116825825789\n"
          ]
        }
      ]
    }
  ]
}