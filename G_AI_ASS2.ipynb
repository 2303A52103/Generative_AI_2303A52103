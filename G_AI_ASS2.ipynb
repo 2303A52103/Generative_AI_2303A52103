{
  "nbformat": 4,
  "nbformat_minor": 0,
  "metadata": {
    "colab": {
      "provenance": [],
      "authorship_tag": "ABX9TyP8YURS6P4Aec9w3rfe2RUY",
      "include_colab_link": true
    },
    "kernelspec": {
      "name": "python3",
      "display_name": "Python 3"
    },
    "language_info": {
      "name": "python"
    }
  },
  "cells": [
    {
      "cell_type": "markdown",
      "metadata": {
        "id": "view-in-github",
        "colab_type": "text"
      },
      "source": [
        "<a href=\"https://colab.research.google.com/github/2303A52103/Generative_AI_2303A52103/blob/main/G_AI_ASS2.ipynb\" target=\"_parent\"><img src=\"https://colab.research.google.com/assets/colab-badge.svg\" alt=\"Open In Colab\"/></a>"
      ]
    },
    {
      "cell_type": "markdown",
      "source": [
        "1. Develop mathematical modeling for the given case study and find solution using Python\n",
        "\n",
        "Consider a chocolate manufacturing company that produces omy two types of chocolate i.e. A and B. Both the chocolates require Milk and Choco only.\n",
        "To manufacture each unit of A and B, the following quantities ar required:\n",
        "\n",
        "Each unit of A requires 1 unit of Milk and 3 units of Choco\n",
        "\n",
        "Each unit of B requires 1 unit of Milk and 2 units of Choco\n",
        "\n",
        "The company kitchen has a total of 5 units of Milk and 12 units of Choco. On each sale, the company makes a profit of Rs 6 per unit A sold and Rs 5 per unit B sold.\n",
        "\n",
        "Now, the company wishes to maximize its profit. How many units of A and B should it produce respectively?"
      ],
      "metadata": {
        "id": "VHK11ojggFWj"
      }
    },
    {
      "cell_type": "code",
      "source": [
        "import numpy as np\n",
        "from scipy.optimize import linprog"
      ],
      "metadata": {
        "id": "kDaWrqL9fd0i"
      },
      "execution_count": 47,
      "outputs": []
    },
    {
      "cell_type": "code",
      "source": [
        "c = [-6, -5]\n",
        "A = [[1, 1], [3, 2]]\n",
        "b = [5, 12]"
      ],
      "metadata": {
        "id": "ZBnbEpXWj_0C"
      },
      "execution_count": 48,
      "outputs": []
    },
    {
      "cell_type": "code",
      "source": [
        "x0_bounds = (0, None)\n",
        "x1_bounds = (0, None)"
      ],
      "metadata": {
        "id": "0OcjT2AskvNY"
      },
      "execution_count": 49,
      "outputs": []
    },
    {
      "cell_type": "code",
      "source": [
        "result = linprog(c, A_ub=A, b_ub=b, bounds=[x0_bounds, x1_bounds], method='highs')"
      ],
      "metadata": {
        "id": "DA4cLRA6nojQ"
      },
      "execution_count": 50,
      "outputs": []
    },
    {
      "cell_type": "code",
      "source": [
        "print(\"Status:\", result.message)\n",
        "print(\"Optimal Solution:\")\n",
        "print(\"No of A type chocolete:\", result.x[0])\n",
        "print(\"No of B type chocolete:\", result.x[1])\n",
        "print(\"Maximum Profit:\", -result.fun)"
      ],
      "metadata": {
        "colab": {
          "base_uri": "https://localhost:8080/"
        },
        "id": "x_uOGx0Mkzw4",
        "outputId": "883acddb-5205-4ee3-ae73-e4931213f0d6"
      },
      "execution_count": 51,
      "outputs": [
        {
          "output_type": "stream",
          "name": "stdout",
          "text": [
            "Status: Optimization terminated successfully. (HiGHS Status 7: Optimal)\n",
            "Optimal Solution:\n",
            "No of A type chocolete: 2.0\n",
            "No of B type chocolete: 3.0\n",
            "Maximum Profit: 27.0\n"
          ]
        }
      ]
    },
    {
      "cell_type": "markdown",
      "source": [
        "2. Develop mathematical modeling for the given case study and find solution using Python\n",
        "\n",
        "A farmer has recently acquired a 110 hectares piece of land. He has decided to grow Wheat and barley on that land. Due to the quality of the sun and the region's excellent climate, the entire production of Wheat and Barley can be sold. He wants to know how to plant each variety in the 110 hectares, given the costs, net profits and labor requirements according to the data shown below:\n",
        "\n",
        "Crop\n",
        "\n",
        "Cost (Rs/Hec)\n",
        "\n",
        "Profit (Price/Hec)\n",
        "\n",
        "Man-days/Hec\n",
        "\n",
        "Wheat\n",
        "\n",
        "7000\n",
        "\n",
        "50\n",
        "\n",
        "10\n",
        "\n",
        "Barley\n",
        "\n",
        "2000\n",
        "\n",
        "120\n",
        "\n",
        "30\n",
        "\n",
        "The farmer has a budget of Rs. 7,00,000 and availability of 1,200 man-days during the planning horizon. Find the optimal solution and the optimal value."
      ],
      "metadata": {
        "id": "Lfqx2OGGk4Ob"
      }
    },
    {
      "cell_type": "code",
      "source": [
        "from scipy.optimize import linprog"
      ],
      "metadata": {
        "id": "mAH20Sfbk1JY"
      },
      "execution_count": 59,
      "outputs": []
    },
    {
      "cell_type": "code",
      "source": [
        "c = [-50, -120]\n",
        "A=[[1,1],[7000,2000],[10,30]]\n",
        "b=[110,700000,1200]"
      ],
      "metadata": {
        "id": "DCwkufmck6FX"
      },
      "execution_count": 60,
      "outputs": []
    },
    {
      "cell_type": "code",
      "source": [
        "x_bounds = (0, None)\n",
        "y_bounds = (0, None)"
      ],
      "metadata": {
        "id": "9zgZDCbVk9zQ"
      },
      "execution_count": 61,
      "outputs": []
    },
    {
      "cell_type": "code",
      "source": [
        "result = linprog(c, A_ub=A, b_ub=b, bounds=[x_bounds, y_bounds], method='highs')"
      ],
      "metadata": {
        "id": "C7dV70stk_wo"
      },
      "execution_count": 62,
      "outputs": []
    },
    {
      "cell_type": "code",
      "source": [
        "print(\"Status:\", result.message)\n",
        "print(\"Optimal Solution:\")\n",
        "print(\"Hectares of Wheat:\", result.x[0])\n",
        "print(\"Hectares of Barley:\", result.x[1])\n",
        "print(\"Maximum Profit:\", -result.fun)"
      ],
      "metadata": {
        "colab": {
          "base_uri": "https://localhost:8080/"
        },
        "id": "mW4to68dn-ea",
        "outputId": "28c6e515-f6b1-4883-b0fe-ab96f1967c21"
      },
      "execution_count": 63,
      "outputs": [
        {
          "output_type": "stream",
          "name": "stdout",
          "text": [
            "Status: Optimization terminated successfully. (HiGHS Status 7: Optimal)\n",
            "Optimal Solution:\n",
            "Hectares of Wheat: 97.89473684210526\n",
            "Hectares of Barley: 7.368421052631579\n",
            "Maximum Profit: 5778.9473684210525\n"
          ]
        }
      ]
    }
  ]
}