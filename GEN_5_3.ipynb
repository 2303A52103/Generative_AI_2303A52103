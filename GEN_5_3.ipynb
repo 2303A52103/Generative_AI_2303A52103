{
  "nbformat": 4,
  "nbformat_minor": 0,
  "metadata": {
    "colab": {
      "provenance": [],
      "authorship_tag": "ABX9TyNVbM0QJH34kfDxt7pnhqjI",
      "include_colab_link": true
    },
    "kernelspec": {
      "name": "python3",
      "display_name": "Python 3"
    },
    "language_info": {
      "name": "python"
    }
  },
  "cells": [
    {
      "cell_type": "markdown",
      "metadata": {
        "id": "view-in-github",
        "colab_type": "text"
      },
      "source": [
        "<a href=\"https://colab.research.google.com/github/2303A52103/Generative_AI_2303A52103/blob/main/GEN_5_3.ipynb\" target=\"_parent\"><img src=\"https://colab.research.google.com/assets/colab-badge.svg\" alt=\"Open In Colab\"/></a>"
      ]
    },
    {
      "cell_type": "code",
      "source": [
        "import numpy as np\n",
        "\n",
        "def sigmoid(x):\n",
        "    return 1 / (1 + np.exp(-x))\n",
        "\n",
        "def sigmoid_derivative(x):\n",
        "    return x * (1 - x)\n",
        "\n",
        "def linear(x):\n",
        "    return x\n",
        "\n",
        "def linear_derivative(x):\n",
        "    return 1\n",
        "\n",
        "class NeuralNetwork:\n",
        "    def __init__(self):\n",
        "        self.w1 = np.random.randn(2, 3) * 0.1\n",
        "        self.w2 = np.random.randn(3, 1) * 0.1\n",
        "        self.b1 = np.zeros((1, 3))\n",
        "        self.b2 = np.zeros((1, 1))\n",
        "\n",
        "    def forward(self, X):\n",
        "        self.z1 = np.dot(X, self.w1) + self.b1\n",
        "        self.a1 = sigmoid(self.z1)\n",
        "        self.z2 = np.dot(self.a1, self.w2) + self.b2\n",
        "        self.a2 = linear(self.z2)\n",
        "        return self.a2\n",
        "\n",
        "    def backward(self, X, y, output, learning_rate=0.1):\n",
        "        self.error = y - output\n",
        "        self.delta2 = self.error * linear_derivative(output)\n",
        "        self.error_hidden = np.dot(self.delta2, self.w2.T)\n",
        "        self.delta1 = self.error_hidden * sigmoid_derivative(self.a1)\n",
        "        self.w2 += learning_rate * np.dot(self.a1.T, self.delta2)\n",
        "        self.b2 += learning_rate * np.sum(self.delta2, axis=0, keepdims=True)\n",
        "        self.w1 += learning_rate * np.dot(X.T, self.delta1)\n",
        "        self.b1 += learning_rate * np.sum(self.delta1, axis=0, keepdims=True)\n",
        "\n",
        "    def train(self, X, y, epochs=1000):\n",
        "        for _ in range(epochs):\n",
        "            output = self.forward(X)\n",
        "            self.backward(X, y, output)\n",
        "\n",
        "    def calculate_mse(self, X, y):\n",
        "        predictions = self.forward(X)\n",
        "        return np.mean((y - predictions) ** 2)\n",
        "\n",
        "train_X = np.array([[1, 2],\n",
        "                    [2, 3],\n",
        "                    [5, 6],\n",
        "                    [6, 7],\n",
        "                    [7, 8],\n",
        "                    [8, 9]])\n",
        "train_y = np.array([[0.4140],\n",
        "                    [0.4611],\n",
        "                    [0.5501],\n",
        "                    [0.5656],\n",
        "                    [0.5765],\n",
        "                    [0.5840]])\n",
        "\n",
        "test_X = np.array([[3, 4],\n",
        "                   [4, 5]])\n",
        "test_y = np.array([[0.4992],\n",
        "                   [0.5285]])\n",
        "\n",
        "nn = NeuralNetwork()\n",
        "print(\"Initial weights:\")\n",
        "print(\"W1:\", nn.w1)\n",
        "print(\"W2:\", nn.w2)\n",
        "\n",
        "nn.train(train_X, train_y, epochs=1000)\n",
        "\n",
        "train_mse = nn.calculate_mse(train_X, train_y)\n",
        "test_mse = nn.calculate_mse(test_X, test_y)\n",
        "\n",
        "print(\"\\nAfter training:\")\n",
        "print(\"Training MSE:\", train_mse)\n",
        "print(\"Testing MSE:\", test_mse)\n",
        "print(\"Final weights:\")\n",
        "print(\"W1:\", nn.w1)\n",
        "print(\"W2:\", nn.w2)\n",
        "\n",
        "def predict_output():\n",
        "    try:\n",
        "        x1 = float(input(\"Enter x1: \"))\n",
        "        x2 = float(input(\"Enter x2: \"))\n",
        "        input_data = np.array([[x1, x2]])\n",
        "        prediction = nn.forward(input_data)\n",
        "        print(f\"Predicted output: {prediction[0][0]:.4f}\")\n",
        "    except ValueError:\n",
        "        print(\"Please enter valid numerical values\")\n",
        "\n",
        "print(\"\\nTest your own input:\")\n",
        "predict_output()"
      ],
      "metadata": {
        "colab": {
          "base_uri": "https://localhost:8080/"
        },
        "id": "ptlEoA7DYxTU",
        "outputId": "13643a98-fb43-4eee-e173-49db225e496a"
      },
      "execution_count": 1,
      "outputs": [
        {
          "output_type": "stream",
          "name": "stdout",
          "text": [
            "Initial weights:\n",
            "W1: [[-0.06696123  0.09755811 -0.06776252]\n",
            " [-0.08782497  0.26523136  0.10318706]]\n",
            "W2: [[0.15505889]\n",
            " [0.00048439]\n",
            " [0.00851083]]\n",
            "\n",
            "After training:\n",
            "Training MSE: 1.0197937911926304e-05\n",
            "Testing MSE: 2.7563343391064194e-05\n",
            "Final weights:\n",
            "W1: [[0.11404248 0.16097615 0.02899416]\n",
            " [0.09060487 0.2892769  0.19058729]]\n",
            "W2: [[0.15322614]\n",
            " [0.3048976 ]\n",
            " [0.12375773]]\n",
            "\n",
            "Test your own input:\n",
            "Enter x1: 3\n",
            "Enter x2: 4\n",
            "Predicted output: 0.4943\n"
          ]
        }
      ]
    }
  ]
}